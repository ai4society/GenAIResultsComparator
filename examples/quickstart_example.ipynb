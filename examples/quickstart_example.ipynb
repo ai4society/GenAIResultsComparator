{
 "cells": [
  {
   "metadata": {},
   "cell_type": "markdown",
   "source": [
    "# Using **GenAIResultsComparator**: A Simple BLEU Example\n",
    "\n",
    "This notebook demonstrates how to use the GenAIResultsComparator library to evaluate generated text using the BLEU (Bilingual Evaluation Understudy) score. BLEU is one of the most popular metrics for evaluating machine-generated text against reference text."
   ],
   "id": "21fe3ce33ac104fe"
  },
  {
   "metadata": {},
   "cell_type": "markdown",
   "source": [
    "## 1. Installation and Setup\n",
    "\n",
    "First, let's import the necessary modules:"
   ],
   "id": "8e10621881961c17"
  },
  {
   "metadata": {
    "jupyter": {
     "is_executing": true
    }
   },
   "cell_type": "code",
   "source": [
    "from llm_metrics import BLEU\n",
    "import numpy as np"
   ],
   "id": "c0cbc954c93e687f",
   "outputs": [],
   "execution_count": null
  },
  {
   "metadata": {},
   "cell_type": "markdown",
   "source": [
    "## 2. Understanding BLEU Score\n",
    "\n",
    "BLEU score measures how similar the machine-generated text is to reference text(s) by computing the n-gram precision. The score ranges from 0 to 1, where:\n",
    "- 1 indicates a perfect match\n",
    "- 0 indicates no match\n",
    "\n",
    "Key characteristics:\n",
    "- BLEU considers word order\n",
    "- It can handle multiple references\n",
    "- It includes a brevity penalty for short translations\n",
    "- It typically uses n-grams up to length 4"
   ],
   "id": "44f41160a900a49b"
  },
  {
   "metadata": {},
   "cell_type": "markdown",
   "source": [
    "## 3. Basic Usage\n",
    "\n",
    "Let's start with a simple example:"
   ],
   "id": "9ede306992cd2f12"
  },
  {
   "metadata": {},
   "cell_type": "code",
   "outputs": [],
   "execution_count": null,
   "source": [
    "# Initialize the BLEU metric calculator\n",
    "bleu = BLEU(n=4)  # Using up to 4-grams\n",
    "\n",
    "# Example texts\n",
    "reference = \"The cat sits on the mat.\"\n",
    "generated = \"The cat is sitting on the mat.\"\n",
    "\n",
    "# Calculate BLEU score\n",
    "score = bleu.calculate(generated, reference)\n",
    "\n",
    "print(f\"BLEU Score: {score:.4f}\")"
   ],
   "id": "fb0b6fe9ff290ff7"
  },
  {
   "metadata": {},
   "cell_type": "markdown",
   "source": [
    "## 4. Batch Processing\n",
    "\n",
    "The library also supports batch processing for multiple text pairs:"
   ],
   "id": "f19f1dd0107669a4"
  },
  {
   "metadata": {},
   "cell_type": "code",
   "outputs": [],
   "execution_count": null,
   "source": [
    "# Multiple examples\n",
    "references = [\n",
    "    \"The cat sits on the mat.\",\n",
    "    \"The weather is beautiful today.\",\n",
    "    \"I love reading interesting books.\"\n",
    "]\n",
    "\n",
    "generated_texts = [\n",
    "    \"The cat is sitting on the mat.\",\n",
    "    \"Today the weather is very nice.\",\n",
    "    \"I enjoy reading fascinating books.\"\n",
    "]\n",
    "\n",
    "# Calculate batch scores\n",
    "scores = bleu.batch_calculate(generated_texts, references)\n",
    "\n",
    "# Print individual scores\n",
    "for i, score in enumerate(scores):\n",
    "    print(f\"Example {i+1} BLEU Score: {score:.4f}\")\n",
    "\n",
    "# Print average score\n",
    "print(f\"\\nAverage BLEU Score: {np.mean(scores):.4f}\")"
   ],
   "id": "c7373bc0ca18dfa0"
  },
  {
   "metadata": {},
   "cell_type": "markdown",
   "source": [
    "## 5. Advanced Usage: Customizing BLEU Calculation\n",
    "BLEU can be customized in several ways:"
   ],
   "id": "d0c3d1664d2c9e44"
  },
  {
   "metadata": {},
   "cell_type": "code",
   "outputs": [],
   "execution_count": null,
   "source": [
    "# Using different n-gram weights\n",
    "bleu_custom = BLEU(\n",
    "    n=4,\n",
    "    additional_params={\n",
    "        'weights': (0.4, 0.3, 0.2, 0.1)  # Custom weights for 1-gram to 4-gram\n",
    "    }\n",
    ")\n",
    "\n",
    "# Compare scores with default and custom weights\n",
    "score_default = bleu.calculate(generated, reference)\n",
    "score_custom = bleu_custom.calculate(generated, reference)\n",
    "\n",
    "print(f\"Default weights BLEU Score: {score_default:.4f}\")\n",
    "print(f\"Custom weights BLEU Score: {score_custom:.4f}\")"
   ],
   "id": "937c6ca75b5184f"
  },
  {
   "metadata": {},
   "cell_type": "markdown",
   "source": [
    "## 6. Conclusion\n",
    "\n",
    "BLEU score is a useful metric for evaluating text similarity, particularly in machine translation tasks. However, it's best used:\n",
    "- In combination with other metrics\n",
    "- With multiple references when possible\n",
    "- For longer texts\n",
    "- As part of a broader evaluation strategy\n",
    "\n",
    "Remember that no single metric is perfect, and human evaluation is often necessary for comprehensive assessment of generated text quality."
   ],
   "id": "60f10e077045f9d0"
  }
 ],
 "metadata": {
  "kernelspec": {
   "display_name": "Python 3",
   "language": "python",
   "name": "python3"
  },
  "language_info": {
   "codemirror_mode": {
    "name": "ipython",
    "version": 2
   },
   "file_extension": ".py",
   "mimetype": "text/x-python",
   "name": "python",
   "nbconvert_exporter": "python",
   "pygments_lexer": "ipython2",
   "version": "2.7.6"
  }
 },
 "nbformat": 4,
 "nbformat_minor": 5
}
