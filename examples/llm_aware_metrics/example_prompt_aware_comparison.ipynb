{
 "cells": [
  {
   "cell_type": "markdown",
   "id": "15df10e8-10fb-4f88-b67b-6b38e4695f1b",
   "metadata": {},
   "source": [
    "# Prompt-Aware Comparison Example\n",
    "\n",
    "This notebook demonstrates how to use the Prompt-Aware Metric to compare LLM outputs while considering their prompts."
   ]
  },
  {
   "cell_type": "code",
   "execution_count": 1,
   "id": "c44eb948-bf71-4198-9106-5a1025387364",
   "metadata": {},
   "outputs": [],
   "source": [
    "from examples.llm_aware_metrics.code.prompt_aware import PromptAwareMetric\n",
    "from llm_metrics.text_similarity_metrics import CosineSimilarity"
   ]
  },
  {
   "cell_type": "markdown",
   "id": "bf881d83-d04a-4e69-8f9e-e6583ea77eb8",
   "metadata": {},
   "source": [
    "<br>"
   ]
  },
  {
   "cell_type": "markdown",
   "id": "5783bb5f-a9eb-432d-b18b-1f4a4be017a0",
   "metadata": {},
   "source": [
    "## Example Data\n",
    "\n",
    "Let's create some example prompts and responses:"
   ]
  },
  {
   "cell_type": "code",
   "execution_count": 2,
   "id": "9352ab57-4ce1-40c0-a41a-c8cf9818e8e7",
   "metadata": {},
   "outputs": [],
   "source": [
    "# Example prompts and responses\n",
    "prompt1 = \"Explain how photosynthesis works in simple terms.\"\n",
    "response1 = \"Photosynthesis is how plants make their food. They use sunlight, water, and carbon dioxide to create sugar and oxygen.\"\n",
    "\n",
    "# Same prompt, different response\n",
    "response2 = \"Plants use photosynthesis to convert sunlight into energy. They combine water and CO2 to produce glucose and release oxygen.\"\n",
    "\n",
    "# Different prompt, but related topic\n",
    "prompt2 = \"What do plants need for photosynthesis?\"\n",
    "response3 = \"Plants need sunlight, water, and carbon dioxide for photosynthesis.\""
   ]
  },
  {
   "cell_type": "markdown",
   "id": "28b2f4f2-1192-472a-9a09-b7d888ee68e1",
   "metadata": {},
   "source": [
    "<br>"
   ]
  },
  {
   "cell_type": "markdown",
   "id": "1bb36265-8878-452e-80a5-4e63d445d9d7",
   "metadata": {},
   "source": [
    "## Using the Prompt-Aware Metric"
   ]
  },
  {
   "cell_type": "code",
   "execution_count": 3,
   "id": "a726f093-7bd3-43de-b1d1-ad53f9d40013",
   "metadata": {},
   "outputs": [
    {
     "name": "stdout",
     "output_type": "stream",
     "text": [
      "Similarity score for same prompt: 0.719\n"
     ]
    }
   ],
   "source": [
    "# Initialize the metric\n",
    "base_metric = CosineSimilarity()\n",
    "prompt_aware_metric = PromptAwareMetric(base_metric)\n",
    "\n",
    "# Compare responses to same prompt\n",
    "score1 = prompt_aware_metric.calculate_with_prompt(\n",
    "    response1,\n",
    "    response2,\n",
    "    prompt1\n",
    ")\n",
    "\n",
    "print(f\"Similarity score for same prompt: {score1:.3f}\")"
   ]
  },
  {
   "cell_type": "code",
   "execution_count": 4,
   "id": "e01d8ed9-5641-4721-af11-5216f8744d0c",
   "metadata": {},
   "outputs": [
    {
     "name": "stdout",
     "output_type": "stream",
     "text": [
      "Similarity score for different prompts: 0.442\n"
     ]
    }
   ],
   "source": [
    "# Compare responses to different prompts\n",
    "score2 = prompt_aware_metric.calculate_with_prompt(\n",
    "    response1,\n",
    "    response3,\n",
    "    prompt1,\n",
    "    prompt2\n",
    ")\n",
    "\n",
    "print(f\"Similarity score for different prompts: {score2:.3f}\")"
   ]
  },
  {
   "cell_type": "markdown",
   "id": "bb184130-d578-42e0-9411-d93b23681132",
   "metadata": {},
   "source": [
    "<br>"
   ]
  },
  {
   "cell_type": "markdown",
   "id": "bfd709cd-38a8-4312-a13c-1d3424030dfd",
   "metadata": {},
   "source": [
    "## Batch Processing Example"
   ]
  },
  {
   "cell_type": "code",
   "execution_count": 5,
   "id": "472490bb-7837-413e-a206-d38328cffcaf",
   "metadata": {},
   "outputs": [],
   "source": [
    "# Multiple prompts and responses\n",
    "prompts = [\n",
    "    \"Explain photosynthesis.\",\n",
    "    \"What is climate change?\",\n",
    "    \"How do vaccines work?\"\n",
    "]\n",
    "\n",
    "responses1 = [\n",
    "    \"Plants convert sunlight to energy.\",\n",
    "    \"Global warming due to greenhouse gases.\",\n",
    "    \"Vaccines train immune system to fight diseases.\"\n",
    "]\n",
    "\n",
    "responses2 = [\n",
    "    \"Plants use sun to make food.\",\n",
    "    \"Earth getting warmer from human activities.\",\n",
    "    \"Vaccines train immune system to fight diseases.\"  # Same sentence\n",
    "]"
   ]
  },
  {
   "cell_type": "code",
   "execution_count": 6,
   "id": "4d3a0db4-e0c0-4752-92c9-937669d87630",
   "metadata": {},
   "outputs": [
    {
     "name": "stdout",
     "output_type": "stream",
     "text": [
      "Prompt: Explain photosynthesis.\n",
      "Similarity Score: 0.535\n",
      "\n",
      "Prompt: What is climate change?\n",
      "Similarity Score: 0.400\n",
      "\n",
      "Prompt: How do vaccines work?\n",
      "Similarity Score: 1.000\n",
      "\n"
     ]
    }
   ],
   "source": [
    "# Batch calculate similarities\n",
    "batch_scores = prompt_aware_metric.batch_calculate_with_prompt(\n",
    "    responses1,\n",
    "    responses2,\n",
    "    prompts\n",
    ")\n",
    "\n",
    "# Display results\n",
    "for prompt, score in zip(prompts, batch_scores):\n",
    "    print(f\"Prompt: {prompt}\\nSimilarity Score: {score:.3f}\\n\")"
   ]
  }
 ],
 "metadata": {
  "kernelspec": {
   "display_name": "Python 3 (ipykernel)",
   "language": "python",
   "name": "python3"
  },
  "language_info": {
   "codemirror_mode": {
    "name": "ipython",
    "version": 3
   },
   "file_extension": ".py",
   "mimetype": "text/x-python",
   "name": "python",
   "nbconvert_exporter": "python",
   "pygments_lexer": "ipython3",
   "version": "3.12.4"
  }
 },
 "nbformat": 4,
 "nbformat_minor": 5
}
